{
 "cells": [
  {
   "cell_type": "markdown",
   "metadata": {},
   "source": [
    "## Q1. Insertion Sort"
   ]
  },
  {
   "cell_type": "code",
   "execution_count": null,
   "metadata": {},
   "outputs": [],
   "source": [
    "def insertion_sort(arr):\n",
    "    for i in range(1, len(arr)):\n",
    "        key = arr[i]\n",
    "        j = i - 1\n",
    "        while (j >= 0 and key < arr[j]):\n",
    "            arr[j + 1] = arr[j]\n",
    "            j -= 1\n",
    "            \n",
    "        arr[j + 1] = key\n",
    "        \n",
    "\n",
    "n= int(input(\"Enter the size of array: \"))\n",
    "numbers = input(\"Enter numbers separated by spaces: \")\n",
    "\n",
    "arr = [int(x) for x in numbers.split()]\n",
    "\n",
    "insertion_sort(arr)\n",
    "\n",
    "print(\"sorted array: \", end = \"\")\n",
    "print(arr, sep=' ')"
   ]
  },
  {
   "cell_type": "markdown",
   "metadata": {},
   "source": [
    "## Q2. Finding a value in an array"
   ]
  },
  {
   "cell_type": "code",
   "execution_count": 7,
   "metadata": {},
   "outputs": [
    {
     "name": "stdout",
     "output_type": "stream",
     "text": [
      "Enter the size of array: 6\n",
      "Enter numbers separated by spaces: 235 568 12 3567 3678 34\n",
      "Enter the value to find: 3463\n"
     ]
    }
   ],
   "source": [
    "arr = []\n",
    "n = int(input(\"Enter the size of array: \"))\n",
    "\n",
    "numbers = input(\"Enter numbers separated by spaces: \")\n",
    "arr = [int(x) for x in numbers.split()]\n",
    "\n",
    "key = int(input(\"Enter the value to find: \"))\n",
    "\n",
    "for index, num in enumerate(arr):\n",
    "    if num == key:\n",
    "        print(f\"Congratssssssssssssssssssssssssssssssss, we found your number in the list you yourself entered, at index: {index}!\")\n",
    "        return\n",
    "\n",
    "print(\"Can't find your value! good night\")"
   ]
  },
  {
   "cell_type": "markdown",
   "metadata": {},
   "source": [
    "## Q3. Student Grading"
   ]
  },
  {
   "cell_type": "code",
   "execution_count": 9,
   "metadata": {},
   "outputs": [
    {
     "name": "stdout",
     "output_type": "stream",
     "text": [
      "Enter the number of students: 3\n",
      "Enter 0th roll number: ab1\n",
      "enter ab1's marks --\n",
      "subject1: 42\n",
      "subject2: 234\n",
      "input mark is not in the correct range <=100!\n",
      "subject2: 23\n",
      "subject3: 67\n",
      "subject4: 78\n",
      "subject5: 76\n",
      "Enter 1th roll number: ab2\n",
      "enter ab2's marks --\n",
      "subject1: 679\n",
      "input mark is not in the correct range <=100!\n",
      "subject1: 78\n",
      "subject2: 67\n",
      "subject3: 98\n",
      "subject4: 69\n",
      "subject5: 89\n",
      "Enter 2th roll number: ab3\n",
      "enter ab3's marks --\n",
      "subject1: 89\n",
      "subject2: \n"
     ]
    },
    {
     "ename": "ValueError",
     "evalue": "invalid literal for int() with base 10: ''",
     "output_type": "error",
     "traceback": [
      "\u001b[0;31m---------------------------------------------------------------------------\u001b[0m",
      "\u001b[0;31mValueError\u001b[0m                                Traceback (most recent call last)",
      "\u001b[0;32m<ipython-input-9-7e7a96172024>\u001b[0m in \u001b[0;36m<module>\u001b[0;34m\u001b[0m\n\u001b[1;32m     50\u001b[0m \u001b[0;34m\u001b[0m\u001b[0m\n\u001b[1;32m     51\u001b[0m \u001b[0mn\u001b[0m \u001b[0;34m=\u001b[0m \u001b[0mint\u001b[0m\u001b[0;34m(\u001b[0m\u001b[0minput\u001b[0m\u001b[0;34m(\u001b[0m\u001b[0;34m\"Enter the number of students: \"\u001b[0m\u001b[0;34m)\u001b[0m\u001b[0;34m)\u001b[0m\u001b[0;34m\u001b[0m\u001b[0;34m\u001b[0m\u001b[0m\n\u001b[0;32m---> 52\u001b[0;31m \u001b[0mmarks\u001b[0m \u001b[0;34m=\u001b[0m \u001b[0mmarks_input\u001b[0m\u001b[0;34m(\u001b[0m\u001b[0mn\u001b[0m\u001b[0;34m)\u001b[0m\u001b[0;34m\u001b[0m\u001b[0;34m\u001b[0m\u001b[0m\n\u001b[0m\u001b[1;32m     53\u001b[0m \u001b[0;34m\u001b[0m\u001b[0m\n\u001b[1;32m     54\u001b[0m \u001b[0mgrades\u001b[0m \u001b[0;34m=\u001b[0m \u001b[0mget_grades\u001b[0m\u001b[0;34m(\u001b[0m\u001b[0mmarks\u001b[0m\u001b[0;34m)\u001b[0m\u001b[0;34m\u001b[0m\u001b[0;34m\u001b[0m\u001b[0m\n",
      "\u001b[0;32m<ipython-input-9-7e7a96172024>\u001b[0m in \u001b[0;36mmarks_input\u001b[0;34m(num_students)\u001b[0m\n\u001b[1;32m     11\u001b[0m             \u001b[0mmark\u001b[0m \u001b[0;34m=\u001b[0m \u001b[0;36m0\u001b[0m\u001b[0;34m\u001b[0m\u001b[0;34m\u001b[0m\u001b[0m\n\u001b[1;32m     12\u001b[0m             \u001b[0;32mwhile\u001b[0m \u001b[0;32mTrue\u001b[0m\u001b[0;34m:\u001b[0m\u001b[0;34m\u001b[0m\u001b[0;34m\u001b[0m\u001b[0m\n\u001b[0;32m---> 13\u001b[0;31m                 \u001b[0mmark\u001b[0m \u001b[0;34m=\u001b[0m \u001b[0mint\u001b[0m\u001b[0;34m(\u001b[0m\u001b[0minput\u001b[0m\u001b[0;34m(\u001b[0m\u001b[0;34mf\"subject{j + 1}: \"\u001b[0m\u001b[0;34m)\u001b[0m\u001b[0;34m)\u001b[0m\u001b[0;34m\u001b[0m\u001b[0;34m\u001b[0m\u001b[0m\n\u001b[0m\u001b[1;32m     14\u001b[0m                 \u001b[0;32mif\u001b[0m \u001b[0mmark\u001b[0m \u001b[0;34m<=\u001b[0m \u001b[0;36m100\u001b[0m\u001b[0;34m:\u001b[0m\u001b[0;34m\u001b[0m\u001b[0;34m\u001b[0m\u001b[0m\n\u001b[1;32m     15\u001b[0m                     \u001b[0;32mbreak\u001b[0m\u001b[0;34m\u001b[0m\u001b[0;34m\u001b[0m\u001b[0m\n",
      "\u001b[0;31mValueError\u001b[0m: invalid literal for int() with base 10: ''"
     ]
    }
   ],
   "source": [
    "def marks_input(num_students):\n",
    "    marks = {}\n",
    "    \n",
    "    for i in range(num_students):\n",
    "        roll_num = input(f\"Enter {i}th roll number: \")\n",
    "\n",
    "        marks_list = []\n",
    "\n",
    "        print(f\"enter {roll_num}'s marks --\")\n",
    "        for j in range(5):\n",
    "            mark = 0\n",
    "            while True:\n",
    "                mark = int(input(f\"subject{j + 1}: \"))\n",
    "                if mark <= 100:\n",
    "                    break\n",
    "                else:\n",
    "                    print(\"input mark is not in the correct range <=100!\")\n",
    "            marks_list.append(mark)\n",
    "\n",
    "        marks[roll_num] = marks_list\n",
    "        \n",
    "    return marks\n",
    "\n",
    "\n",
    "def grade(mark):\n",
    "    if mark in range(90, 101):\n",
    "        return 'S'\n",
    "    elif mark in range(80, 90):\n",
    "        return 'A'\n",
    "    elif mark in range(70, 80):\n",
    "        return 'B'\n",
    "    elif mark in range(60, 70):\n",
    "        return 'C'\n",
    "    elif mark in range(50, 60):\n",
    "        return 'D'\n",
    "    elif mark in range(40, 50):\n",
    "        return 'E'\n",
    "    else:\n",
    "        return 'U'\n",
    "\n",
    "\n",
    "def get_grades(marks):\n",
    "    grades = {}\n",
    "    \n",
    "    for roll_num, marks_list in marks:\n",
    "        grades[roll_num] = [grade((mark) for mark in marks_list)]\n",
    "    \n",
    "    return grades\n",
    "\n",
    "\n",
    "n = int(input(\"Enter the number of students: \"))\n",
    "marks = marks_input(n)\n",
    "    \n",
    "grades = get_grades(marks)\n",
    "\n",
    "print(\"grades --\")\n",
    "for roll_num, grades_list in grades:\n",
    "    print(f\"{roll_num}: \", end='')\n",
    "    print(grades_list, sep=' ')"
   ]
  }
 ],
 "metadata": {
  "kernelspec": {
   "display_name": "Python 3",
   "language": "python",
   "name": "python3"
  },
  "language_info": {
   "codemirror_mode": {
    "name": "ipython",
    "version": 3
   },
   "file_extension": ".py",
   "mimetype": "text/x-python",
   "name": "python",
   "nbconvert_exporter": "python",
   "pygments_lexer": "ipython3",
   "version": "3.8.10"
  }
 },
 "nbformat": 4,
 "nbformat_minor": 4
}
